{
 "cells": [
  {
   "cell_type": "code",
   "execution_count": 2,
   "metadata": {},
   "outputs": [],
   "source": [
    "data = []\n",
    "\n",
    "with open('./data.txt') as f:\n",
    "    data = f.read().splitlines()"
   ]
  },
  {
   "cell_type": "code",
   "execution_count": 3,
   "metadata": {},
   "outputs": [],
   "source": [
    "filtered_list = []\n",
    "\n",
    "temp_list = []\n",
    "for col in data:\n",
    "    if col == '':\n",
    "        filtered_list.append(temp_list)\n",
    "        temp_list = []\n",
    "    else:\n",
    "        temp_list.append(col)\n",
    "filtered_list.append(temp_list)"
   ]
  },
  {
   "cell_type": "code",
   "execution_count": 10,
   "metadata": {},
   "outputs": [
    {
     "data": {
      "text/plain": [
       "\"</table>\\n<br/>\\n\\n##### Array / String\\n\\n<table>\\n    <tr>\\n        <th> Problem </th>\\n        <th> Difficulty </th>\\n        <th> Status </th>\\n    </tr>\\n    <tr>\\n        <td> Merge Strings Alternately </td>\\n        <td> Easy </td>\\n        <td>  </td>\\n    </tr>\\n\\n    <tr>\\n        <td> Greatest Common Divisor of Strings </td>\\n        <td> Easy </td>\\n        <td>  </td>\\n    </tr>\\n\\n    <tr>\\n        <td> Kids With the Greatest Number of Candies </td>\\n        <td> Easy </td>\\n        <td>  </td>\\n    </tr>\\n\\n    <tr>\\n        <td> Can Place Flowers </td>\\n        <td> Easy </td>\\n        <td>  </td>\\n    </tr>\\n\\n    <tr>\\n        <td> Reverse Vowels of a String </td>\\n        <td> Easy </td>\\n        <td>  </td>\\n    </tr>\\n\\n    <tr>\\n        <td> Reverse Words in a String </td>\\n        <td> Medium </td>\\n        <td>  </td>\\n    </tr>\\n\\n    <tr>\\n        <td> Product of Array Except Self </td>\\n        <td> Medium </td>\\n        <td>  </td>\\n    </tr>\\n\\n    <tr>\\n        <td> Increasing Triplet Subsequence </td>\\n        <td> Medium </td>\\n        <td>  </td>\\n    </tr>\\n\\n    <tr>\\n        <td> String Compression </td>\\n        <td> Medium </td>\\n        <td>  </td>\\n    </tr>\\n</table>\\n<br/>\\n\\n##### Two Pointers\\n\\n<table>\\n    <tr>\\n        <th> Problem </th>\\n        <th> Difficulty </th>\\n        <th> Status </th>\\n    </tr>\\n    <tr>\\n        <td> Move Zeroes </td>\\n        <td> Easy </td>\\n        <td>  </td>\\n    </tr>\\n\\n    <tr>\\n        <td> Is Subsequence </td>\\n        <td> Easy </td>\\n        <td>  </td>\\n    </tr>\\n\\n    <tr>\\n        <td> Container With Most Water </td>\\n        <td> Medium </td>\\n        <td>  </td>\\n    </tr>\\n\\n    <tr>\\n        <td> Max Number of K-Sum Pairs </td>\\n        <td> Medium </td>\\n        <td>  </td>\\n    </tr>\\n</table>\\n<br/>\\n\\n##### Sliding Window\\n\\n<table>\\n    <tr>\\n        <th> Problem </th>\\n        <th> Difficulty </th>\\n        <th> Status </th>\\n    </tr>\\n    <tr>\\n        <td> Maximum Average Subarray I </td>\\n        <td> Easy </td>\\n        <td>  </td>\\n    </tr>\\n\\n    <tr>\\n        <td> Maximum Number of Vowels in a Substring of Given Length </td>\\n        <td> Medium </td>\\n        <td>  </td>\\n    </tr>\\n\\n    <tr>\\n        <td> Max Consecutive Ones III </td>\\n        <td> Medium </td>\\n        <td>  </td>\\n    </tr>\\n\\n    <tr>\\n        <td> Longest Subarray of 1's After Deleting One Element </td>\\n        <td> Medium </td>\\n        <td>  </td>\\n    </tr>\\n</table>\\n<br/>\\n\\n##### Prefix Sum\\n\\n<table>\\n    <tr>\\n        <th> Problem </th>\\n        <th> Difficulty </th>\\n        <th> Status </th>\\n    </tr>\\n    <tr>\\n        <td> Find the Highest Altitude </td>\\n        <td> Easy </td>\\n        <td>  </td>\\n    </tr>\\n\\n    <tr>\\n        <td> Find Pivot Index </td>\\n        <td> Easy </td>\\n        <td>  </td>\\n    </tr>\\n</table>\\n<br/>\\n\\n##### Hash Map / Set\\n\\n<table>\\n    <tr>\\n        <th> Problem </th>\\n        <th> Difficulty </th>\\n        <th> Status </th>\\n    </tr>\\n    <tr>\\n        <td> Find the Difference of Two Arrays </td>\\n        <td> Easy </td>\\n        <td>  </td>\\n    </tr>\\n\\n    <tr>\\n        <td> Unique Number of Occurrences </td>\\n        <td> Easy </td>\\n        <td>  </td>\\n    </tr>\\n\\n    <tr>\\n        <td> Determine if Two Strings Are Close </td>\\n        <td> Medium </td>\\n        <td>  </td>\\n    </tr>\\n\\n    <tr>\\n        <td> Equal Row and Column Pairs </td>\\n        <td> Medium </td>\\n        <td>  </td>\\n    </tr>\\n</table>\\n<br/>\\n\\n##### Stack\\n\\n<table>\\n    <tr>\\n        <th> Problem </th>\\n        <th> Difficulty </th>\\n        <th> Status </th>\\n    </tr>\\n    <tr>\\n        <td> Removing Stars From a String </td>\\n        <td> Medium </td>\\n        <td>  </td>\\n    </tr>\\n\\n    <tr>\\n        <td> Asteroid Collision </td>\\n        <td> Medium </td>\\n        <td>  </td>\\n    </tr>\\n\\n    <tr>\\n        <td> Decode String </td>\\n        <td> Medium </td>\\n        <td>  </td>\\n    </tr>\\n</table>\\n<br/>\\n\\n##### Queue\\n\\n<table>\\n    <tr>\\n        <th> Problem </th>\\n        <th> Difficulty </th>\\n        <th> Status </th>\\n    </tr>\\n    <tr>\\n        <td> Number of Recent Calls </td>\\n        <td> Easy </td>\\n        <td>  </td>\\n    </tr>\\n\\n    <tr>\\n        <td> Dota2 Senate </td>\\n        <td> Medium </td>\\n        <td>  </td>\\n    </tr>\\n</table>\\n<br/>\\n\\n##### Linked List\\n\\n<table>\\n    <tr>\\n        <th> Problem </th>\\n        <th> Difficulty </th>\\n        <th> Status </th>\\n    </tr>\\n    <tr>\\n        <td> Delete the Middle Node of a Linked List </td>\\n        <td> Medium </td>\\n        <td>  </td>\\n    </tr>\\n\\n    <tr>\\n        <td> Odd Even Linked List </td>\\n        <td> Medium </td>\\n        <td>  </td>\\n    </tr>\\n\\n    <tr>\\n        <td> Reverse Linked List </td>\\n        <td> Easy </td>\\n        <td>  </td>\\n    </tr>\\n\\n    <tr>\\n        <td> Maximum Twin Sum of a Linked List </td>\\n        <td> Medium </td>\\n        <td>  </td>\\n    </tr>\\n</table>\\n<br/>\\n\\n##### Binary Tree - DFS\\n\\n<table>\\n    <tr>\\n        <th> Problem </th>\\n        <th> Difficulty </th>\\n        <th> Status </th>\\n    </tr>\\n    <tr>\\n        <td> Maximum Depth of Binary Tree </td>\\n        <td> Easy </td>\\n        <td>  </td>\\n    </tr>\\n\\n    <tr>\\n        <td> Leaf-Similar Trees </td>\\n        <td> Easy </td>\\n        <td>  </td>\\n    </tr>\\n\\n    <tr>\\n        <td> Count Good Nodes in Binary Tree </td>\\n        <td> Medium </td>\\n        <td>  </td>\\n    </tr>\\n\\n    <tr>\\n        <td> Path Sum III </td>\\n        <td> Medium </td>\\n        <td>  </td>\\n    </tr>\\n\\n    <tr>\\n        <td> Longest ZigZag Path in a Binary Tree </td>\\n        <td> Medium </td>\\n        <td>  </td>\\n    </tr>\\n\\n    <tr>\\n        <td> Lowest Common Ancestor of a Binary Tree </td>\\n        <td> Medium </td>\\n        <td>  </td>\\n    </tr>\\n</table>\\n<br/>\\n\\n##### Binary Tree - BFS\\n\\n<table>\\n    <tr>\\n        <th> Problem </th>\\n        <th> Difficulty </th>\\n        <th> Status </th>\\n    </tr>\\n    <tr>\\n        <td> Binary Tree Right Side View </td>\\n        <td> Medium </td>\\n        <td>  </td>\\n    </tr>\\n\\n    <tr>\\n        <td> Maximum Level Sum of a Binary Tree </td>\\n        <td> Medium </td>\\n        <td>  </td>\\n    </tr>\\n</table>\\n<br/>\\n\\n##### Binary Search Tree\\n\\n<table>\\n    <tr>\\n        <th> Problem </th>\\n        <th> Difficulty </th>\\n        <th> Status </th>\\n    </tr>\\n    <tr>\\n        <td> Search in a Binary Search Tree </td>\\n        <td> Easy </td>\\n        <td>  </td>\\n    </tr>\\n\\n    <tr>\\n        <td> Delete Node in a BST </td>\\n        <td> Medium </td>\\n        <td>  </td>\\n    </tr>\\n</table>\\n<br/>\\n\\n##### Graphs - DFS\\n\\n<table>\\n    <tr>\\n        <th> Problem </th>\\n        <th> Difficulty </th>\\n        <th> Status </th>\\n    </tr>\\n    <tr>\\n        <td> Keys and Rooms </td>\\n        <td> Medium </td>\\n        <td>  </td>\\n    </tr>\\n\\n    <tr>\\n        <td> Number of Provinces </td>\\n        <td> Medium </td>\\n        <td>  </td>\\n    </tr>\\n\\n    <tr>\\n        <td> Reorder Routes to Make All Paths Lead to the City Zero </td>\\n        <td> Medium </td>\\n        <td>  </td>\\n    </tr>\\n\\n    <tr>\\n        <td> Evaluate Division </td>\\n        <td> Medium </td>\\n        <td>  </td>\\n    </tr>\\n</table>\\n<br/>\\n\\n##### Graphs - BFS\\n\\n<table>\\n    <tr>\\n        <th> Problem </th>\\n        <th> Difficulty </th>\\n        <th> Status </th>\\n    </tr>\\n    <tr>\\n        <td> Nearest Exit from Entrance in Maze </td>\\n        <td> Medium </td>\\n        <td>  </td>\\n    </tr>\\n\\n    <tr>\\n        <td> Rotting Oranges </td>\\n        <td> Medium </td>\\n        <td>  </td>\\n    </tr>\\n</table>\\n<br/>\\n\\n##### Heap / Priority Queue\\n\\n<table>\\n    <tr>\\n        <th> Problem </th>\\n        <th> Difficulty </th>\\n        <th> Status </th>\\n    </tr>\\n    <tr>\\n        <td> Kth Largest Element in an Array </td>\\n        <td> Medium </td>\\n        <td>  </td>\\n    </tr>\\n\\n    <tr>\\n        <td> Smallest Number in Infinite Set </td>\\n        <td> Medium </td>\\n        <td>  </td>\\n    </tr>\\n\\n    <tr>\\n        <td> Maximum Subsequence Score </td>\\n        <td> Medium </td>\\n        <td>  </td>\\n    </tr>\\n\\n    <tr>\\n        <td> Total Cost to Hire K Workers </td>\\n        <td> Medium </td>\\n        <td>  </td>\\n    </tr>\\n</table>\\n<br/>\\n\\n##### Binary Search\\n\\n<table>\\n    <tr>\\n        <th> Problem </th>\\n        <th> Difficulty </th>\\n        <th> Status </th>\\n    </tr>\\n    <tr>\\n        <td> Guess Number Higher or Lower </td>\\n        <td> Easy </td>\\n        <td>  </td>\\n    </tr>\\n\\n    <tr>\\n        <td> Successful Pairs of Spells and Potions </td>\\n        <td> Medium </td>\\n        <td>  </td>\\n    </tr>\\n\\n    <tr>\\n        <td> Find Peak Element </td>\\n        <td> Medium </td>\\n        <td>  </td>\\n    </tr>\\n\\n    <tr>\\n        <td> Koko Eating Bananas </td>\\n        <td> Medium </td>\\n        <td>  </td>\\n    </tr>\\n</table>\\n<br/>\\n\\n##### Backtracking\\n\\n<table>\\n    <tr>\\n        <th> Problem </th>\\n        <th> Difficulty </th>\\n        <th> Status </th>\\n    </tr>\\n    <tr>\\n        <td> Letter Combinations of a Phone Number </td>\\n        <td> Medium </td>\\n        <td>  </td>\\n    </tr>\\n\\n    <tr>\\n        <td> Combination Sum III </td>\\n        <td> Medium </td>\\n        <td>  </td>\\n    </tr>\\n</table>\\n<br/>\\n\\n##### DP - 1D\\n\\n<table>\\n    <tr>\\n        <th> Problem </th>\\n        <th> Difficulty </th>\\n        <th> Status </th>\\n    </tr>\\n    <tr>\\n        <td> N-th Tribonacci Number </td>\\n        <td> Easy </td>\\n        <td>  </td>\\n    </tr>\\n\\n    <tr>\\n        <td> Min Cost Climbing Stairs </td>\\n        <td> Easy </td>\\n        <td>  </td>\\n    </tr>\\n\\n    <tr>\\n        <td> House Robber </td>\\n        <td> Medium </td>\\n        <td>  </td>\\n    </tr>\\n\\n    <tr>\\n        <td> Domino and Tromino Tiling </td>\\n        <td> Medium </td>\\n        <td>  </td>\\n    </tr>\\n</table>\\n<br/>\\n\\n##### DP - Multidimensional\\n\\n<table>\\n    <tr>\\n        <th> Problem </th>\\n        <th> Difficulty </th>\\n        <th> Status </th>\\n    </tr>\\n    <tr>\\n        <td> Unique Paths </td>\\n        <td> Medium </td>\\n        <td>  </td>\\n    </tr>\\n\\n    <tr>\\n        <td> Longest Common Subsequence </td>\\n        <td> Medium </td>\\n        <td>  </td>\\n    </tr>\\n\\n    <tr>\\n        <td> Best Time to Buy and Sell Stock with Transaction Fee </td>\\n        <td> Medium </td>\\n        <td>  </td>\\n    </tr>\\n\\n    <tr>\\n        <td> Edit Distance </td>\\n        <td> Medium </td>\\n        <td>  </td>\\n    </tr>\\n</table>\\n<br/>\\n\\n##### Bit Manipulation\\n\\n<table>\\n    <tr>\\n        <th> Problem </th>\\n        <th> Difficulty </th>\\n        <th> Status </th>\\n    </tr>\\n    <tr>\\n        <td> Counting Bits </td>\\n        <td> Easy </td>\\n        <td>  </td>\\n    </tr>\\n\\n    <tr>\\n        <td> Single Number </td>\\n        <td> Easy </td>\\n        <td>  </td>\\n    </tr>\\n\\n    <tr>\\n        <td> Minimum Flips to Make a OR b Equal to c </td>\\n        <td> Medium </td>\\n        <td>  </td>\\n    </tr>\\n</table>\\n<br/>\\n\\n##### Trie\\n\\n<table>\\n    <tr>\\n        <th> Problem </th>\\n        <th> Difficulty </th>\\n        <th> Status </th>\\n    </tr>\\n    <tr>\\n        <td> Implement Trie (Prefix Tree) </td>\\n        <td> Medium </td>\\n        <td>  </td>\\n    </tr>\\n\\n    <tr>\\n        <td> Search Suggestions System </td>\\n        <td> Medium </td>\\n        <td>  </td>\\n    </tr>\\n</table>\\n<br/>\\n\\n##### Intervals\\n\\n<table>\\n    <tr>\\n        <th> Problem </th>\\n        <th> Difficulty </th>\\n        <th> Status </th>\\n    </tr>\\n    <tr>\\n        <td> Non-overlapping Intervals </td>\\n        <td> Medium </td>\\n        <td>  </td>\\n    </tr>\\n\\n    <tr>\\n        <td> Minimum Number of Arrows to Burst Balloons </td>\\n        <td> Medium </td>\\n        <td>  </td>\\n    </tr>\\n</table>\\n<br/>\\n\\n##### Monotonic Stack\\n\\n<table>\\n    <tr>\\n        <th> Problem </th>\\n        <th> Difficulty </th>\\n        <th> Status </th>\\n    </tr>\\n    <tr>\\n        <td> Daily Temperatures </td>\\n        <td> Medium </td>\\n        <td>  </td>\\n    </tr>\\n\\n    <tr>\\n        <td> Online Stock Span </td>\\n        <td> Medium </td>\\n        <td>  </td>\\n    </tr>\\n\""
      ]
     },
     "execution_count": 10,
     "metadata": {},
     "output_type": "execute_result"
    }
   ],
   "source": [
    "output = \"\"\n",
    "\n",
    "for col in filtered_list:\n",
    "    start = 0\n",
    "    if len(col) > 3:\n",
    "        output += f\"</table>\\n<br/>\\n\\n##### {col[0]}\\n\"\n",
    "        start = 1\n",
    "        output += f\"\"\"\n",
    "<table>\n",
    "    <tr>\n",
    "        <th> Problem </th>\n",
    "        <th> Difficulty </th>\n",
    "        <th> Status </th>\n",
    "    </tr>\"\"\"\n",
    "    \n",
    "    output += f\"\"\"\n",
    "    <tr>\n",
    "        <td> {col[start]} </td>\n",
    "        <td> {col[start+2]} </td>\n",
    "        <td>  </td>\n",
    "    </tr>\n",
    "\"\"\"\n",
    "\n",
    "output"
   ]
  },
  {
   "cell_type": "code",
   "execution_count": 9,
   "metadata": {},
   "outputs": [],
   "source": [
    "with open('output.txt', 'w') as file:\n",
    "    file.write(output)"
   ]
  }
 ],
 "metadata": {
  "kernelspec": {
   "display_name": "lmu",
   "language": "python",
   "name": "python3"
  },
  "language_info": {
   "codemirror_mode": {
    "name": "ipython",
    "version": 3
   },
   "file_extension": ".py",
   "mimetype": "text/x-python",
   "name": "python",
   "nbconvert_exporter": "python",
   "pygments_lexer": "ipython3",
   "version": "3.12.0"
  }
 },
 "nbformat": 4,
 "nbformat_minor": 2
}
