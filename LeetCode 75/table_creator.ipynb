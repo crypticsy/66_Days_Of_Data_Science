{
 "cells": [
  {
   "cell_type": "code",
   "execution_count": 1,
   "metadata": {},
   "outputs": [],
   "source": [
    "data = []\n",
    "\n",
    "with open('./data.txt') as f:\n",
    "    data = f.read().splitlines()"
   ]
  },
  {
   "cell_type": "code",
   "execution_count": 4,
   "metadata": {},
   "outputs": [],
   "source": [
    "filtered_list = []\n",
    "\n",
    "temp_list = []\n",
    "for col in data:\n",
    "    if col == '':\n",
    "        filtered_list.append(temp_list)\n",
    "        temp_list = []\n",
    "    else:\n",
    "        temp_list.append(col)\n",
    "filtered_list.append(temp_list)"
   ]
  },
  {
   "cell_type": "code",
   "execution_count": 28,
   "metadata": {},
   "outputs": [
    {
     "data": {
      "text/plain": [
       "\"\\n<br/>\\n\\n##### Array / String\\n| Problem | Difficulty | Status |\\n| --- | --- | --- |\\n| Merge Strings Alternately | Easy |  |\\n| Greatest Common Divisor of Strings | Easy |  |\\n| Kids With the Greatest Number of Candies | Easy |  |\\n| Can Place Flowers | Easy |  |\\n| Reverse Vowels of a String | Easy |  |\\n| Reverse Words in a String | Medium |  |\\n| Product of Array Except Self | Medium |  |\\n| Increasing Triplet Subsequence | Medium |  |\\n| String Compression | Medium |  |\\n\\n<br/>\\n\\n##### Two Pointers\\n| Problem | Difficulty | Status |\\n| --- | --- | --- |\\n| Move Zeroes | Easy |  |\\n| Is Subsequence | Easy |  |\\n| Container With Most Water | Medium |  |\\n| Max Number of K-Sum Pairs | Medium |  |\\n\\n<br/>\\n\\n##### Sliding Window\\n| Problem | Difficulty | Status |\\n| --- | --- | --- |\\n| Maximum Average Subarray I | Easy |  |\\n| Maximum Number of Vowels in a Substring of Given Length | Medium |  |\\n| Max Consecutive Ones III | Medium |  |\\n| Longest Subarray of 1's After Deleting One Element | Medium |  |\\n\\n<br/>\\n\\n##### Prefix Sum\\n| Problem | Difficulty | Status |\\n| --- | --- | --- |\\n| Find the Highest Altitude | Easy |  |\\n| Find Pivot Index | Easy |  |\\n\\n<br/>\\n\\n##### Hash Map / Set\\n| Problem | Difficulty | Status |\\n| --- | --- | --- |\\n| Find the Difference of Two Arrays | Easy |  |\\n| Unique Number of Occurrences | Easy |  |\\n| Determine if Two Strings Are Close | Medium |  |\\n| Equal Row and Column Pairs | Medium |  |\\n\\n<br/>\\n\\n##### Stack\\n| Problem | Difficulty | Status |\\n| --- | --- | --- |\\n| Removing Stars From a String | Medium |  |\\n| Asteroid Collision | Medium |  |\\n| Decode String | Medium |  |\\n\\n<br/>\\n\\n##### Queue\\n| Problem | Difficulty | Status |\\n| --- | --- | --- |\\n| Number of Recent Calls | Easy |  |\\n| Dota2 Senate | Medium |  |\\n\\n<br/>\\n\\n##### Linked List\\n| Problem | Difficulty | Status |\\n| --- | --- | --- |\\n| Delete the Middle Node of a Linked List | Medium |  |\\n| Odd Even Linked List | Medium |  |\\n| Reverse Linked List | Easy |  |\\n| Maximum Twin Sum of a Linked List | Medium |  |\\n\\n<br/>\\n\\n##### Binary Tree - DFS\\n| Problem | Difficulty | Status |\\n| --- | --- | --- |\\n| Maximum Depth of Binary Tree | Easy |  |\\n| Leaf-Similar Trees | Easy |  |\\n| Count Good Nodes in Binary Tree | Medium |  |\\n| Path Sum III | Medium |  |\\n| Longest ZigZag Path in a Binary Tree | Medium |  |\\n| Lowest Common Ancestor of a Binary Tree | Medium |  |\\n\\n<br/>\\n\\n##### Binary Tree - BFS\\n| Problem | Difficulty | Status |\\n| --- | --- | --- |\\n| Binary Tree Right Side View | Medium |  |\\n| Maximum Level Sum of a Binary Tree | Medium |  |\\n\\n<br/>\\n\\n##### Binary Search Tree\\n| Problem | Difficulty | Status |\\n| --- | --- | --- |\\n| Search in a Binary Search Tree | Easy |  |\\n| Delete Node in a BST | Medium |  |\\n\\n<br/>\\n\\n##### Graphs - DFS\\n| Problem | Difficulty | Status |\\n| --- | --- | --- |\\n| Keys and Rooms | Medium |  |\\n| Number of Provinces | Medium |  |\\n| Reorder Routes to Make All Paths Lead to the City Zero | Medium |  |\\n| Evaluate Division | Medium |  |\\n\\n<br/>\\n\\n##### Graphs - BFS\\n| Problem | Difficulty | Status |\\n| --- | --- | --- |\\n| Nearest Exit from Entrance in Maze | Medium |  |\\n| Rotting Oranges | Medium |  |\\n\\n<br/>\\n\\n##### Heap / Priority Queue\\n| Problem | Difficulty | Status |\\n| --- | --- | --- |\\n| Kth Largest Element in an Array | Medium |  |\\n| Smallest Number in Infinite Set | Medium |  |\\n| Maximum Subsequence Score | Medium |  |\\n| Total Cost to Hire K Workers | Medium |  |\\n\\n<br/>\\n\\n##### Binary Search\\n| Problem | Difficulty | Status |\\n| --- | --- | --- |\\n| Guess Number Higher or Lower | Easy |  |\\n| Successful Pairs of Spells and Potions | Medium |  |\\n| Find Peak Element | Medium |  |\\n| Koko Eating Bananas | Medium |  |\\n\\n<br/>\\n\\n##### Backtracking\\n| Problem | Difficulty | Status |\\n| --- | --- | --- |\\n| Letter Combinations of a Phone Number | Medium |  |\\n| Combination Sum III | Medium |  |\\n\\n<br/>\\n\\n##### DP - 1D\\n| Problem | Difficulty | Status |\\n| --- | --- | --- |\\n| N-th Tribonacci Number | Easy |  |\\n| Min Cost Climbing Stairs | Easy |  |\\n| House Robber | Medium |  |\\n| Domino and Tromino Tiling | Medium |  |\\n\\n<br/>\\n\\n##### DP - Multidimensional\\n| Problem | Difficulty | Status |\\n| --- | --- | --- |\\n| Unique Paths | Medium |  |\\n| Longest Common Subsequence | Medium |  |\\n| Best Time to Buy and Sell Stock with Transaction Fee | Medium |  |\\n| Edit Distance | Medium |  |\\n\\n<br/>\\n\\n##### Bit Manipulation\\n| Problem | Difficulty | Status |\\n| --- | --- | --- |\\n| Counting Bits | Easy |  |\\n| Single Number | Easy |  |\\n| Minimum Flips to Make a OR b Equal to c | Medium |  |\\n\\n<br/>\\n\\n##### Trie\\n| Problem | Difficulty | Status |\\n| --- | --- | --- |\\n| Implement Trie (Prefix Tree) | Medium |  |\\n| Search Suggestions System | Medium |  |\\n\\n<br/>\\n\\n##### Intervals\\n| Problem | Difficulty | Status |\\n| --- | --- | --- |\\n| Non-overlapping Intervals | Medium |  |\\n| Minimum Number of Arrows to Burst Balloons | Medium |  |\\n\\n<br/>\\n\\n##### Monotonic Stack\\n| Problem | Difficulty | Status |\\n| --- | --- | --- |\\n| Daily Temperatures | Medium |  |\\n| Online Stock Span | Medium |  |\\n\""
      ]
     },
     "execution_count": 28,
     "metadata": {},
     "output_type": "execute_result"
    }
   ],
   "source": [
    "output = \"\"\n",
    "columns = ['Problem', 'Difficulty', 'Status']\n",
    "\n",
    "for col in filtered_list:\n",
    "    start = 0\n",
    "    if len(col) > 3:\n",
    "        output += f\"\\n<br/>\\n\\n##### {col[0]}\\n\"\n",
    "        start = 1\n",
    "        output += f\"| {columns[0]} | {columns[1]} | {columns[2]} |\\n\"\n",
    "        output += f\"| --- | --- | --- |\\n\"\n",
    "        \n",
    "    output += f\"| {col[start]} | {col[start+2]} |  |\\n\"\n",
    "\n",
    "output"
   ]
  },
  {
   "cell_type": "code",
   "execution_count": 27,
   "metadata": {},
   "outputs": [],
   "source": [
    "with open('output.txt', 'w') as file:\n",
    "    file.write(output)"
   ]
  }
 ],
 "metadata": {
  "kernelspec": {
   "display_name": "lmu",
   "language": "python",
   "name": "python3"
  },
  "language_info": {
   "codemirror_mode": {
    "name": "ipython",
    "version": 3
   },
   "file_extension": ".py",
   "mimetype": "text/x-python",
   "name": "python",
   "nbconvert_exporter": "python",
   "pygments_lexer": "ipython3",
   "version": "3.12.0"
  }
 },
 "nbformat": 4,
 "nbformat_minor": 2
}
